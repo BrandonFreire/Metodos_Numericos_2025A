{
 "cells": [
  {
   "cell_type": "code",
   "execution_count": 2,
   "id": "b75f6d2d",
   "metadata": {},
   "outputs": [],
   "source": [
    "# Obtener los errores\n",
    "\n",
    "# Errores por truncamiento\n",
    "\n",
    "import math\n",
    "\n",
    "pi = math.pi\n",
    "pi_truncado = 3.141"
   ]
  },
  {
   "cell_type": "code",
   "execution_count": null,
   "id": "6317987a",
   "metadata": {},
   "outputs": [
    {
     "name": "stdout",
     "output_type": "stream",
     "text": [
      "pi redondeado: 3.142\n",
      "Error real redondeo: -0.0004073464102067881\n",
      "Error absoluto redondeo: 0.0004073464102067881\n",
      "Error relativo redondeo: 0.0001296623894702984\n",
      "Error porcentual redondeo: 0.012966238947029841 %\n"
     ]
    }
   ],
   "source": [
    "#Errores por redondeo\n",
    "pi_redondeado = round(pi, 3)\n",
    "print(\"pi redondeado:\", pi_redondeado)\n",
    "\n",
    "error_real_redondeo = pi - pi_redondeado\n",
    "print(\"Error real redondeo:\", error_real_redondeo)\n",
    "\n",
    "error_absoluto_redondeo = abs(error_real_redondeo)\n",
    "print(\"Error absoluto redondeo:\", error_absoluto_redondeo)\n",
    "\n",
    "error_relativo_redondeo = abs(error_real_redondeo / pi)\n",
    "print(\"Error relativo redondeo:\", error_relativo_redondeo)\n",
    "\n",
    "error_porcentual_redondeo = error_relativo_redondeo * 100\n",
    "print(\"Error porcentual redondeo:\", error_porcentual_redondeo, \"%\")"
   ]
  },
  {
   "cell_type": "markdown",
   "id": "c5a079ed",
   "metadata": {},
   "source": [
    "## Transformación estandar IEEE 754 64 bits\n",
    "### 1. Objetivos\n",
    "- Comprender la representación de números reales en la computadora.\n",
    "### 2. Marco teórico\n",
    "En la computación, la representación de números reales ha sido un gran desafío debido a la necesidad de tener precisión y exactitud en los cálculos. Por ello, el estándar IEEE 754, establecido en 1985 por la IEEE y revisado en 2008 por la misma entidad, se define como la representación y manipulación de números de punto flotante universal en sistemas digitales, garantizando uniformidad en los diferentes sistemas computacionales.\n",
    "\n",
    "El estándar define formatos precisos para la representación de números reales. Sin embargo, se diferencian entre ellos por la cantidad de bits usados para representar el número en binario, por ello existen tres formatos que se detallan a continuación:\n",
    "\n",
    "- Precisión simple (32 bits) que consta de tres componentes:\n",
    "    - Signo (1 bit): indica si el número es positivo o negativo.\n",
    "    - Exponente (8 bits): se utiliza para escalar el número y se guarda en exceso 127 (al exponente se le suma 127).\n",
    "    - Mantisa (23 bits): representa la parte fraccionaria del número y es laque tiene un solo  digito distinto de cero en su parte entera\n",
    "    - .\n",
    "\n",
    "- Por otro lado, la versión de 64 btis (doble precisión) mantiene los tres componentes anteriores pero el cambio se da en que tiene 11 bits para el exponente y 52 bits para la mantisa. Lo que ofrece un mayor rango y precisión.\n",
    "\n",
    "Entre los casos especiales que maneja se tienen:\n",
    "\n",
    "-> Insertar tabla de casos especiales\n",
    "\n",
    "Este estándar ampliamente utilizado tiene aplicaciones desde cálculos científicos, algoritmos, lenguajes de programación hasta situaciones financieras que lo requieran, su implementación asegura resultados confiables y consistentes. "
   ]
  },
  {
   "cell_type": "markdown",
   "id": "08520e01",
   "metadata": {},
   "source": [
    "# Desbordamiento"
   ]
  },
  {
   "cell_type": "code",
   "execution_count": 2,
   "id": "72cc010c",
   "metadata": {},
   "outputs": [
    {
     "name": "stdout",
     "output_type": "stream",
     "text": [
      "*** Límites de datos en la computadora ***\n",
      "\n",
      "El máximo float positivo (sys.float_info.max): 1.7976931348623157e+308\n",
      "El mínimo float negativo (sys.float_infomin): 2.2250738585072014e-308\n",
      "Precisión de float (sys.float_info.dig): 15\n",
      "El máximo entero utilizable (sys.maxsize): 9223372036854775807\n"
     ]
    }
   ],
   "source": [
    "    \n",
    "import sys\n",
    "    \n",
    "print(\"*** Límites de datos en la computadora ***\\n\")\n",
    "\n",
    "# Impresión del máximo valor de float\n",
    "print(\"El máximo float positivo (sys.float_info.max):\",sys.float_info.max)\n",
    "\n",
    "# Mínimo valor negativo de float\n",
    "print(\"El mínimo float negativo (sys.float_infomin):\", sys.float_info.min)\n",
    "\n",
    "# Precisión de float\n",
    "print(\"Precisión de float (sys.float_info.dig):\", sys.float_info.dig)\n",
    "\n",
    "# Tamaño máximo de un entero antes de agotar la memoria\n",
    "print(\"El máximo entero utilizable (sys.maxsize):\", sys.maxsize)"
   ]
  },
  {
   "cell_type": "code",
   "execution_count": 3,
   "id": "50232d7f",
   "metadata": {},
   "outputs": [
    {
     "name": "stdout",
     "output_type": "stream",
     "text": [
      "***Desbordamiento de los límites de datos en Python***\n",
      "\n",
      "Desbordamiento de float máximo positivo (sys.float_info.max * 2): inf\n",
      "Desbordamiento de float negativo mínimo (sys.float_info.min * sys.float_info.min): 0.0\n",
      "Desbordamiento de float (infinito): nan\n",
      "Desbordamiento de entero (sys.maxsize ** 1000): Desbordamiento de entero: Exceeds the limit (4300 digits) for integer string conversion; use sys.set_int_max_str_digits() to increase the limit\n"
     ]
    }
   ],
   "source": [
    "print(\"***Desbordamiento de los límites de datos en Python***\\n\")\n",
    "\n",
    "# Desbordamiento de float máximo\n",
    "overflow_float_positive = sys.float_info.max * 2\n",
    "print(\"Desbordamiento de float máximo positivo (sys.float_info.max * 2):\", overflow_float_positive)\n",
    "\n",
    "# Desbordamiento de float mínimo\n",
    "overflow_float_negativo = sys.float_info.min * sys.float_info.min\n",
    "print(\"Desbordamiento de float negativo mínimo (sys.float_info.min * sys.float_info.min):\", overflow_float_negativo)\n",
    "\n",
    "# Desbordamiento de float (infinito) y obtención de NaN\n",
    "overflow_float_positive -= overflow_float_positive\n",
    "print(\"Desbordamiento de float (infinito):\", overflow_float_positive)\n",
    "\n",
    "# Desbordamiento de entero\n",
    "try:\n",
    "    large_int = sys.maxsize ** 1000\n",
    "    print(\"Desbordamiento de entero (sys.maxsize ** 1000):\", large_int)\n",
    "except ValueError as e:\n",
    "    print(\"Desbordamiento de entero:\", e)"
   ]
  }
 ],
 "metadata": {
  "kernelspec": {
   "display_name": "Python 3",
   "language": "python",
   "name": "python3"
  },
  "language_info": {
   "codemirror_mode": {
    "name": "ipython",
    "version": 3
   },
   "file_extension": ".py",
   "mimetype": "text/x-python",
   "name": "python",
   "nbconvert_exporter": "python",
   "pygments_lexer": "ipython3",
   "version": "3.11.9"
  }
 },
 "nbformat": 4,
 "nbformat_minor": 5
}
