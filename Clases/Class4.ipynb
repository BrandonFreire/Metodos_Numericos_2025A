{
 "cells": [
  {
   "cell_type": "code",
   "execution_count": 2,
   "id": "e361947f",
   "metadata": {},
   "outputs": [],
   "source": [
    "import math"
   ]
  },
  {
   "cell_type": "markdown",
   "id": "e283f74c",
   "metadata": {},
   "source": [
    "<div align=\"center\">\n",
    "\n",
    "# Escuela Politécnica Nacional  \n",
    "\n",
    "</div>\n",
    "\n",
    "<div align=\"center\">\n",
    "\n",
    "<span style=\"font-size:22px\"><b>Facultad de Ingeniería en Sistemas</b></span>  \n",
    "\n",
    "<span style=\"font-size:20px\"><b>Ingeniería en Ciencias de la Computación</b></span>\n",
    "\n",
    "</div>   \n",
    "\n",
    "**Asignatura:** Métodos Numéricos  \n",
    "\n",
    "**Estudiante:** Ismael Freire  \n",
    "\n",
    "**Grupo:** GR2  \n",
    "\n",
    "**Título del Trabajo:** Título  \n",
    "\n",
    "**Fecha de Entrega:** 08/06/2025 "
   ]
  },
  {
   "cell_type": "markdown",
   "id": "746da193",
   "metadata": {},
   "source": [
    "# **Raíces de una ecación**\n",
    "\n",
    "La raíz x es la solución de una ecuación \n",
    "\n",
    "## **Teorema del valor intermedio**\n",
    "\n",
    "Si f es continua en [a,b] y K es cualquier número entre f(a) y f(b), entonces existe un número c en (a,b) tal que f(c)=K.\n",
    "\n",
    " * primero la función tiene que ser continua, no tiene que haber huecos o corte dentro de la función.\n",
    "\n",
    "Muestre que x^5 - 2x^3 + 3x^2 - 1 = 0 tiene una solución en el intervalo [0,1].\n",
    "\n",
    "* primero se deben reemplazar los valores del intervalo\n",
    "  \n",
    " f(0) = 0^5 - 2*0^3 + 3*0^2 - 1 = -1\n",
    " f(1) = 1^5 - 2*1^3 + 3*1^2 - 1 = 1\n",
    "\n",
    " * se cumple que f(0) < 0 y f(1) > 0, obteniendo 0 < c < 1\n",
    " * por lo tanto existe un número c está en (0,1).\n",
    "\n",
    "## **Búsqueda de cambio de signo**\n",
    "\n",
    "Un intervalo [a,b], la función f(x) toma valores de diferente signo en los extremos.\n",
    "\n",
    "* Se busca un intervalo [a,b] tal que f(a) y f(b) tengan signos opuestos.\n",
    "\n",
    "$f(a) * f(b) < 0$ \n",
    "\n",
    "$f(-1) * f(1) < 0$\n",
    "\n",
    "$-1 < 0$\n",
    "\n",
    "## **Método de la bisección**\n",
    "\n",
    "Realiza divisiones sucesivas infinitas hasta aproximarse a un valor real, el error se va disminuyendo y acercandose a cero. \n",
    "\n",
    "La búsqueda de cambio de signo nos dice que en ese extremo que se está tomando se está aproximando al valor real. Si $f(a) \\cdot f(p) < 0$ entonces $b = p$ y $a = a$, en cambio si $f(a) \\cdot f(p) > 0$ entonces $a = p$ y $b = b$.\n",
    " \n",
    "El número de iteraciones va a dar mayor precisión.\n",
    "\n",
    "Paso 4: se valida si es cero y si lo es se termina el proceso o se realiza el calculo del metodo de la bisección.\n",
    "\n",
    "\n",
    "\n"
   ]
  },
  {
   "cell_type": "code",
   "execution_count": 5,
   "id": "f0c35bdf",
   "metadata": {},
   "outputs": [
    {
     "name": "stdout",
     "output_type": "stream",
     "text": [
      "Iteración 1: a = -2, b = 0, p = -1.0, FA = 2.950212931632136, FP = -1.0\n",
      "Iteración 2: a = -2, b = -1.0, p = -1.5, FA = 2.950212931632136, FP = 0.9634952031398099\n",
      "Iteración 3: a = -1.5, b = -1.0, p = -1.25, FA = 0.9634952031398099, FP = -0.00728282473092301\n",
      "Iteración 4: a = -1.5, b = -1.25, p = -1.375, FA = 0.9634952031398099, FP = 0.48022582690363\n",
      "Iteración 5: a = -1.375, b = -1.25, p = -1.3125, FA = 0.48022582690363, FP = 0.23719521405913302\n",
      "Iteración 6: a = -1.3125, b = -1.25, p = -1.28125, FA = 0.23719521405913302, FP = 0.11515295433753148\n",
      "Iteración 7: a = -1.28125, b = -1.25, p = -1.265625, FA = 0.11515295433753148, FP = 0.05398561482037567\n",
      "Iteración 8: a = -1.265625, b = -1.25, p = -1.2578125, FA = 0.05398561482037567, FP = 0.02336416096493721\n",
      "Iteración 9: a = -1.2578125, b = -1.25, p = -1.25390625, FA = 0.02336416096493721, FP = 0.008043872959257237\n",
      "Iteración 10: a = -1.25390625, b = -1.25, p = -1.251953125, FA = 0.008043872959257237, FP = 0.0003813268241048551\n",
      "Iteración 11: a = -1.251953125, b = -1.25, p = -1.2509765625, FA = 0.0003813268241048551, FP = -0.0034505480992705895\n",
      "Procedimiento completado exitosamente. \n",
      " Solución aproximada p = -1.2509765625 en la iteración 11\n"
     ]
    },
    {
     "data": {
      "text/plain": [
       "-1.2509765625"
      ]
     },
     "execution_count": 5,
     "metadata": {},
     "output_type": "execute_result"
    }
   ],
   "source": [
    "# Función de ejemplo: f(x) = x^3 - 7x^2 + 14x - 6\n",
    "def func(x):\n",
    "    return x**2 - 1 - math.exp(1 - x**2)\n",
    "\n",
    "# Codificar el método de la bisección con función signum\n",
    "def signum(value):\n",
    "    if value > 0:\n",
    "        return 1\n",
    "    elif value < 0:\n",
    "        return -1\n",
    "    else:\n",
    "        return 0\n",
    "\n",
    "# Método de la bisección\n",
    "def biseccion(func, a, b, tolerance, max_iter=1000):\n",
    "    i = 1\n",
    "    FA = func(a)\n",
    "\n",
    "    while i <= max_iter:\n",
    "        p = a + (b - a) / 2\n",
    "        FP = func(p)\n",
    "\n",
    "        print(f\"Iteración {i}: a = {a}, b = {b}, p = {p}, FA = {FA}, FP = {FP}\")\n",
    "\n",
    "        if FP == 0 or (b - a) / 2 < tolerance:\n",
    "            print(\"Procedimiento completado exitosamente. \\n Solución aproximada p =\", p, \"en la iteración\", i)\n",
    "            return p\n",
    "        i += 1\n",
    "\n",
    "        if signum(FA) * signum(FP) > 0: #Implementación de la función signum para manejar el signo\n",
    "            a = p\n",
    "            FA = FP\n",
    "        else:\n",
    "            b = p\n",
    "\n",
    "    print(f\"El método fracasó despues de {max_iter} iteraciones.\")\n",
    "    return None\n",
    "    \n",
    "a, b = -2, 0\n",
    "tolerance = 10**(-3)\n",
    "biseccion(func, a, b, tolerance)\n"
   ]
  }
 ],
 "metadata": {
  "kernelspec": {
   "display_name": "Python 3",
   "language": "python",
   "name": "python3"
  },
  "language_info": {
   "codemirror_mode": {
    "name": "ipython",
    "version": 3
   },
   "file_extension": ".py",
   "mimetype": "text/x-python",
   "name": "python",
   "nbconvert_exporter": "python",
   "pygments_lexer": "ipython3",
   "version": "3.11.9"
  }
 },
 "nbformat": 4,
 "nbformat_minor": 5
}
