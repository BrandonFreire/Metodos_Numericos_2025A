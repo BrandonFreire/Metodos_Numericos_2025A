{
 "cells": [
  {
   "cell_type": "raw",
   "id": "8326852c",
   "metadata": {
    "vscode": {
     "languageId": "raw"
    }
   },
   "source": [
    "---\n",
    "tittle: \"Informe 1\"\n",
    "author: \"Ismael Freire\"\n",
    "lang: es\n",
    "format:\n",
    "  pdf:\n",
    "    toc: true\n",
    "    toc-title: \"Tabla de contenidos\"\n",
    "execute:\n",
    "   echo: true\n",
    "   error: false\n",
    "   warning: false\n",
    "jupyter: python3\n",
    "link-citations: true\n",
    "---"
   ]
  },
  {
   "cell_type": "markdown",
   "id": "6b8513de",
   "metadata": {},
   "source": [
    "<div align=\"center\">\n",
    "\n",
    "# Escuela Politécnica Nacional  \n",
    "\n",
    "</div>\n",
    "\n",
    "<div align=\"center\">\n",
    "\n",
    "<span style=\"font-size:22px\"><b>Facultad de Ingeniería en Sistemas</b></span>  \n",
    "\n",
    "<span style=\"font-size:20px\"><b>Ingeniería en Ciencias de la Computación</b></span>\n",
    "\n",
    "</div>   \n",
    "\n",
    "**Asignatura:** Métodos Numéricos  \n",
    "\n",
    "**Estudiante:** Ismael Freire  \n",
    "\n",
    "**Grupo:** GR2  \n",
    "\n",
    "**Título del Trabajo:** Título  \n",
    "\n",
    "**Fecha de Entrega:** 08/06/2025 "
   ]
  },
  {
   "cell_type": "markdown",
   "id": "33cfd39f",
   "metadata": {},
   "source": [
    "## **Exactutud vs Precisión**\n",
    "\n",
    "Exactitud: (Cerca del valor real) es la medida de cuán cerca está una medición del valor verdadero. Se refiere a la proximidad de un resultado a su valor real o verdadero. En otras palabras, es una medida de cuán correcto es un resultado en comparación con el valor real.\n",
    "\n",
    "Precisión: (valores consistentes) es la medida de cuán consistentes son las mediciones entre sí. Se refiere a la cercanía de un conjunto de resultados entre sí, independientemente de si están cerca del valor verdadero o no. En otras palabras, es una medida de cuán repetibles son los resultados.\n",
    "\n",
    "**¿En que casos se pueden llegar a una alta precisión y baja exactitud?**\n",
    "\n",
    "- En un experimento de laboratorio, si un instrumento de medición está descalibrado, puede dar lecturas consistentes (alta precisión) pero incorrectas (baja exactitud). Por ejemplo, si un termómetro siempre mide 2 grados más de lo que realmente es, todas las lecturas serán precisas entre sí, pero no serán exactas en relación con la temperatura real.\n",
    "\n",
    "**¿En que casos se pueden llegar a una alta exactitud y baja precisión?**\n",
    "\n",
    "- En un experimento de laboratorio, si un instrumento de medición tiene un error aleatorio significativo, puede dar lecturas que son cercanas al valor verdadero (alta exactitud) pero no consistentes entre sí (baja precisión). Por ejemplo, si un termómetro da lecturas de 20.1, 20.5 y 19.8 grados, la media puede estar cerca de la temperatura real, pero las lecturas individuales son inconsistentes.\n",
    "\n",
    "- Es cuando se simula bien pero el modelado no es adecuado\n",
    "\n",
    "**¿En que casos se pueden llegar a una baja precisión y baja exactitud?**\n",
    "\n",
    "- En un experimento de laboratorio, si un instrumento de medición está dañado o mal utilizado, puede dar lecturas que son inconsistentes y lejos del valor verdadero. Por ejemplo, si un termómetro está roto y da lecturas aleatorias, no será preciso ni exacto.\n",
    "- Es cuando se simula mal y el modelado no es adecuado\n",
    "\n",
    "\n",
    "## **Tipos de errores**\n",
    "\n",
    "### **1. Error de corte o truncamiento:**\n",
    "\n",
    "Este tipo de error se produce cuando se eliminan cifras significativas de un número, lo que puede llevar a una pérdida de información y a resultados inexactos. Por ejemplo, si se redondea 3.14159 a 3.14, el error de corte es 0.00159.\n",
    "   \n",
    "¿Que son las cifras significativas?\n",
    "\n",
    "0.35 -> tiene dos cifras significativas \n",
    "\n",
    "Cualquier algoritmo que se implemente puede ser exacto pero no preciso\n",
    "\n",
    "Ej:"
   ]
  },
  {
   "cell_type": "markdown",
   "id": "f264811f",
   "metadata": {},
   "source": [
    "Límites finitos para almacenar números."
   ]
  },
  {
   "cell_type": "code",
   "execution_count": 5,
   "id": "cda55460",
   "metadata": {},
   "outputs": [
    {
     "name": "stdout",
     "output_type": "stream",
     "text": [
      "Valor dado:  3.141592653589793\n",
      "Valor truncado a 3 decimales: 3.141\n"
     ]
    }
   ],
   "source": [
    "import math\n",
    "\n",
    "pi = math.pi\n",
    "\n",
    "def truncar(numero, decimales):\n",
    "    factor = 10.0 ** decimales\n",
    "    return int(numero * factor) / factor\n",
    "\n",
    "# Aplicaición::\n",
    "pi_truncado_manual = truncar(pi, 3)\n",
    "print(\"Valor dado: \", pi)\n",
    "print(\"Valor truncado a 3 decimales:\", pi_truncado_manual)"
   ]
  },
  {
   "cell_type": "markdown",
   "id": "44c64b1f",
   "metadata": {},
   "source": [
    "\n",
    "### **2. Error de redondeo:** \n",
    "\n",
    "Es el error que se produce al redondear un número a un número fijo de cifras decimales. Por ejemplo, si se redondea 3.14159 a 3.14, el error de redondeo es 0.00159.\n",
    "\n",
    "El usar dentro de los algoritmos mucho redondeo puede ser preciso pero no exacto\n",
    "\n",
    "-> Un algoritmo debe ser preciso y exacto.\n",
    "\n",
    "Ej:"
   ]
  },
  {
   "cell_type": "code",
   "execution_count": 6,
   "id": "d01095a1",
   "metadata": {},
   "outputs": [
    {
     "name": "stdout",
     "output_type": "stream",
     "text": [
      "Valor de dado: 3.141592653589793\n",
      "Valor redondeado a 3 decimales: 3.142\n"
     ]
    }
   ],
   "source": [
    "pi_redondeado = round(pi, 3)\n",
    "print(\"Valor de dado:\", pi)\n",
    "print(\"Valor redondeado a 3 decimales:\", pi_redondeado)"
   ]
  },
  {
   "cell_type": "markdown",
   "id": "9cd705f4",
   "metadata": {},
   "source": [
    "### **3. Error de desbordamiento** o **overflow:** \n",
    "\n",
    "Este error ocurre cuando un número excede el rango máximo que puede ser representado por un tipo de dato específico. Por ejemplo, si se intenta almacenar un número entero muy grande en una variable de tipo byte, se producirá un error de desbordamiento. Este error produce que los desbordamientos se transformen en números negativos o en peor de los casos en NAN, INF, etc.\n",
    "\n",
    "¿Que es un lenguaje fuertemente tipado?\n",
    "- Es un lenguaje que no permite la conversión automática entre tipos de datos. Por ejemplo, en Python, no se puede sumar un número entero y una cadena de texto sin convertir explícitamente uno de los tipos. Esto ayuda a evitar errores de desbordamiento y otros problemas relacionados con la manipulación de datos.\n",
    "\n",
    "->Tarea: Identificar los imites de datos en sus computadores y ver que sucede al desbordar esos limites en python. Todos los deberes deben tener Nombre, Titulo, Grupo, Objetivos, Marco Teorico (opcional), resolución, conclusiones y referencias (opcional). Entregar el jueves en PDF."
   ]
  },
  {
   "cell_type": "code",
   "execution_count": 7,
   "id": "bfba1bf0",
   "metadata": {},
   "outputs": [
    {
     "name": "stdout",
     "output_type": "stream",
     "text": [
      "Desbordamiento de entero (sys.maxsize ** 1000): Desbordamiento de entero: Exceeds the limit (4300 digits) for integer string conversion; use sys.set_int_max_str_digits() to increase the limit\n"
     ]
    }
   ],
   "source": [
    "import sys\n",
    "\n",
    "# Ejemplo del desbordamiento de entero\n",
    "try:\n",
    "    large_int = sys.maxsize ** 1000\n",
    "    print(\"Desbordamiento de entero (sys.maxsize ** 1000):\", large_int)\n",
    "except ValueError as e:\n",
    "    print(\"Desbordamiento de entero:\", e)"
   ]
  },
  {
   "cell_type": "markdown",
   "id": "1d103fad",
   "metadata": {},
   "source": [
    "## Representación Numérica\n",
    "\n",
    "Como la computadora almacena y maneja los numeros utilizando 0 y 1"
   ]
  },
  {
   "cell_type": "markdown",
   "id": "4a568b7a",
   "metadata": {},
   "source": [
    "## Calculo de errores\n",
    "\n",
    "<div align=\"center\">\n",
    "\n",
    "$Error_{real} = p - p^*$\n",
    "\n",
    "</div>   \n",
    "\n",
    "siendo $p$ el valor real y $p*$ el valor_aproximado que se obtiene al redondear o truncar el valor real."
   ]
  },
  {
   "cell_type": "code",
   "execution_count": 8,
   "id": "6b28d16f",
   "metadata": {},
   "outputs": [
    {
     "name": "stdout",
     "output_type": "stream",
     "text": [
      "3.141592653589793\n",
      "Error real: 0.0005926535897931018\n"
     ]
    }
   ],
   "source": [
    "pi_truncado = 3.141\n",
    "\n",
    "# Valor de pi\n",
    "print(pi)\n",
    "\n",
    "# Error real\n",
    "error_real = pi - pi_truncado\n",
    "print(\"Error real:\", error_real)"
   ]
  },
  {
   "cell_type": "markdown",
   "id": "0738c891",
   "metadata": {},
   "source": [
    "<div align=\"center\">\n",
    "\n",
    "$Error_{absoluto} = |p - p^*|$\n",
    "\n",
    "</div>   \n",
    "\n",
    "El error absoluto se obtiene al tomar el valor absoluto del error real. Este error nos indica la magnitud del error sin importar su signo."
   ]
  },
  {
   "cell_type": "code",
   "execution_count": 9,
   "id": "82a4a8ca",
   "metadata": {},
   "outputs": [
    {
     "name": "stdout",
     "output_type": "stream",
     "text": [
      "Error absoluto: 0.0005926535897931018\n"
     ]
    }
   ],
   "source": [
    "error_absoluto = abs(error_real)\n",
    "print(\"Error absoluto:\", error_absoluto)"
   ]
  },
  {
   "cell_type": "markdown",
   "id": "ee650655",
   "metadata": {},
   "source": [
    "\n",
    "<div align=\"center\">\n",
    "\n",
    "$Error_{relativo} = \\frac{| p - p^* |}{| p |} $\n",
    "\n",
    "</div>   \n",
    "\n",
    "El error relativo se obtiene al dividir el error absoluto por el valor real. Este error nos indica la magnitud del error en relación con el valor real, lo que nos permite comparar errores de diferentes magnitudes. Tiene que ser diferente de cero porque sino crea una indeterminación"
   ]
  },
  {
   "cell_type": "code",
   "execution_count": 10,
   "id": "9fc85c66",
   "metadata": {},
   "outputs": [
    {
     "name": "stdout",
     "output_type": "stream",
     "text": [
      "Error relativo: 0.00018864749671345722\n"
     ]
    }
   ],
   "source": [
    "error_relativo = abs(error_real / pi)\n",
    "print(\"Error relativo:\", error_relativo)"
   ]
  },
  {
   "cell_type": "markdown",
   "id": "e31644c9",
   "metadata": {},
   "source": [
    "<div align=\"center\">\n",
    "\n",
    "$Error_{relativo} = \\frac{| p - p^* |}{| p |} \\cdot  {100 \\%}$\n",
    "\n",
    "</div>   \n",
    "\n",
    "El error porcentual se obtiene al multiplicar el error relativo por 100. Este error nos indica la magnitud del error en términos porcentuales, lo que facilita la interpretación y comparación de errores entre diferentes mediciones."
   ]
  },
  {
   "cell_type": "code",
   "execution_count": 11,
   "id": "5c623287",
   "metadata": {},
   "outputs": [
    {
     "name": "stdout",
     "output_type": "stream",
     "text": [
      "Error porcentual: 0.018864749671345722 %\n"
     ]
    }
   ],
   "source": [
    "error_porcentual = error_relativo * 100\n",
    "print(\"Error porcentual:\", error_porcentual, \"%\")"
   ]
  }
 ],
 "metadata": {
  "kernelspec": {
   "display_name": "Python 3",
   "language": "python",
   "name": "python3"
  },
  "language_info": {
   "codemirror_mode": {
    "name": "ipython",
    "version": 3
   },
   "file_extension": ".py",
   "mimetype": "text/x-python",
   "name": "python",
   "nbconvert_exporter": "python",
   "pygments_lexer": "ipython3",
   "version": "3.11.9"
  }
 },
 "nbformat": 4,
 "nbformat_minor": 5
}
