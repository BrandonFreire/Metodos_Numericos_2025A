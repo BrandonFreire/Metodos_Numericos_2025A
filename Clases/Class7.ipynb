{
 "cells": [
  {
   "cell_type": "markdown",
   "id": "18f9cce8",
   "metadata": {},
   "source": [
    "<div align=\"center\">\n",
    "\n",
    "# Escuela Politécnica Nacional  \n",
    "\n",
    "</div>\n",
    "\n",
    "<div align=\"center\">\n",
    "\n",
    "<span style=\"font-size:22px\"><b>Facultad de Ingeniería en Sistemas</b></span>  \n",
    "\n",
    "<span style=\"font-size:20px\"><b>Ingeniería en Ciencias de la Computación</b></span>\n",
    "\n",
    "</div>   \n",
    "\n",
    "**Asignatura:** Métodos Numéricos  \n",
    "\n",
    "**Estudiante:** Ismael Freire  \n",
    "\n",
    "**Grupo:** GR2  \n",
    "\n",
    "**Título del Trabajo:** \n",
    "\n",
    "**Fecha de Entrega:** 08/06/2025 "
   ]
  },
  {
   "cell_type": "markdown",
   "id": "5605fb57",
   "metadata": {},
   "source": [
    "# Método del punto fijo\n",
    "\n",
    "Corrección de la prueba:\n",
    "\n",
    "Para los puntos $p_0 = 2$ y $p_1 = 2.5$ se tiene una tolerancia de $10^{-4}$. Para la función:\n",
    "\n",
    "$f(x) = x^{3} - 2 x - 5$\n",
    "\n",
    "-> En este método siempre un punto se va a mantener fijo, ya sea el del intervalo de la izquierda o el de la derecha."
   ]
  },
  {
   "attachments": {
    "image.png": {
     "image/png": "[encoded data removed]"
    }
   },
   "cell_type": "markdown",
   "id": "d5b3dca2",
   "metadata": {},
   "source": [
    "![image.png](attachment:image.png)"
   ]
  },
  {
   "cell_type": "markdown",
   "id": "5bce5cac",
   "metadata": {},
   "source": [
    "# Interpolación y ajuste de curvas\n",
    "\n",
    "**¿Qué es la interpolación?**\n",
    "\n",
    "La interpolación es un método matemático que permite estimar el valor de una función en un punto intermedio entre dos puntos conocidos. Se basa en la idea de que, dado un conjunto de puntos (x, y), se puede encontrar una función que pase exactamente por esos puntos.\n",
    "\n",
    "Es la estimación de un valor desconocidos\n",
    "\n",
    "**¿Qué es la extrapolación?**\n",
    "\n",
    "La extrapolación es un método matemático que permite estimar el valor de una función fuera del rango de los puntos conocidos. Se basa en la idea de que, dado un conjunto de puntos (x, y), se puede encontrar una función que se ajuste a esos puntos y luego usar esa función para predecir valores fuera del rango.\n",
    "\n",
    "## Características de la interpolación\n",
    "\n",
    "### **Underfitting:** \n",
    "\n",
    "Es un problema que ocurre cuando un modelo es demasiado simple para capturar la complejidad de los datos. En la interpolación, esto puede suceder si se utiliza un polinomio de bajo grado para ajustar los puntos, lo que resulta en una función que no se ajusta bien a los datos.\n",
    "\n",
    "No se cubre todos los puntos o no se cubre ninguno de los puntos.\n",
    "\n",
    "### **Overfitting:** \n",
    "\n",
    "Es un problema que ocurre cuando un modelo es demasiado complejo y se ajusta demasiado a los datos, capturando el ruido en lugar de la señal. En la interpolación, esto puede suceder si se utiliza un polinomio de alto grado para ajustar los puntos, lo que resulta en una función que oscila excesivamente entre los puntos.\n",
    "\n",
    "Mientras más se recorre mas aumenta el grado polinómico y más aumenta el costo computacional.\n",
    "\n",
    "### **Optimal-fitting:**\n",
    "\n",
    "Se busca un equilibrio entre el underfitting y el overfitting. En la interpolación, esto se logra utilizando un polinomio de grado adecuado que se ajuste bien a los datos sin oscilar excesivamente."
   ]
  },
  {
   "cell_type": "markdown",
   "id": "388fc5a4",
   "metadata": {},
   "source": [
    "## Teorema de aproximación de Weierstrass\n",
    "\n",
    "Cualquier función continua definida en un intervalo cerrado puede ser aproximada por un polinomio de grado n, donde n es el número de puntos menos uno.\n",
    "\n",
    "Para que el teorema \n",
    "\n",
    "## Series de Taylor\n",
    "\n",
    "Son aproximaciones de funciones mediante una serie de potencias o suma de potencias\n",
    "\n",
    "Sirve para aproximar funciones en un intervalo cerrado.\n",
    "\n",
    "### El polinomio de Taylor\n",
    "\n",
    "$f(x) = P_n(x) + R_n(x)$ donde $P_n(x)$ es el polinomio de Taylor y $R_n(x)$ es el residuo o error de la aproximación con **truncamiento**.\n",
    "\n",
    "Pero antes se debe cumplir:\n",
    "\n",
    "- Que las dervidadas de la función sean continuas en el intervalo cerrado\n",
    "\n",
    "- La derivada enesima exista dentro del intervalo\n",
    "\n",
    "- Que el $x_0$ esté dentro del intervalo cerrado\n",
    "\n",
    "**¿Que es el $x_0$?**\n",
    "\n",
    "Es el punto donde se va a calcular la aproximación, es el punto de referencia. No es es el punto inicial.\n",
    "\n",
    "**¿Que es un crentroide?**\n",
    "\n",
    "Es el punto medio de un intervalo cerrado, es decir, el punto que divide el intervalo en dos partes iguales. En el contexto de la interpolación y ajuste de curvas, el centroide se utiliza como un punto de referencia para calcular la aproximación de una función en un intervalo cerrado.\n"
   ]
  },
  {
   "cell_type": "markdown",
   "id": "73e8b8e9",
   "metadata": {},
   "source": [
    "La serie de Taylor de una función $f(x)$ centrada en el punto $x_0$ se expresa como:\n",
    "\n",
    "$\n",
    "f(x) = f(x_0) + f'(x_0)(x - x_0) + \\frac{f''(x_0)}{2!}(x - x_0)^2 + \\cdots + \\frac{f^{(n)}(x_0)}{n!}(x - x_0)^n + \\cdots\n",
    "$\n",
    "\n",
    "De forma general:\n",
    "\n",
    "\\[\n",
    "f(x) = \\sum_{k=0}^{\\infty} \\frac{f^{(k)}(x_0)}{k!} (x - x_0)^k\n",
    "\\]\n",
    "\n",
    "Donde:\n",
    "\n",
    "- $f^{(k)}(x_0)$ es la $k$-ésima derivada de $f(x)$ evaluada en $x_0$.\n",
    "- $k!$ es el factorial de $k$.\n",
    "- $x_0$ es el punto alrededor del cual se expande la serie.\n"
   ]
  },
  {
   "cell_type": "markdown",
   "id": "c5c7806a",
   "metadata": {},
   "source": [
    "**¿Qué significa que el numero de derivadas crezca?**\n",
    "\n",
    "Significa que \n",
    "\n",
    "### Error del polinomio de Taylor\n",
    "\n",
    "Para sacar el error se debe derivar una vez más la función."
   ]
  },
  {
   "cell_type": "markdown",
   "id": "21deabde",
   "metadata": {},
   "source": [
    "Insertar el error en la ecuación de Taylor:"
   ]
  },
  {
   "cell_type": "markdown",
   "id": "a61ea1c2",
   "metadata": {},
   "source": [
    "**Práctica:**\n",
    "\n"
   ]
  },
  {
   "cell_type": "markdown",
   "id": "eb3d7060",
   "metadata": {},
   "source": [
    "### Series de Maclaurin\n",
    "\n",
    "Solo funcionan con $x_0 = 0$\n",
    "\n",
    "**No se usa en interpolación porque mientras mas se va aproximando más se va alejando, solo en aproximación.**\n",
    "\n",
    "Son aproximaciones locales."
   ]
  },
  {
   "cell_type": "markdown",
   "id": "c5a82be4",
   "metadata": {},
   "source": [
    "### Polinomios de Lagrange\n",
    "\n",
    "No usa derivadas, solo usa los puntos, o sea con los puntos se va armando el polinomio.\n",
    "\n",
    "Ej\n",
    "\n",
    "Previo se debe despejar el multiplicativo\n",
    "\n",
    "-> Ignorando K\n",
    "\n",
    "$L_0 (x) = \\frac{(x-x_1) \\cdot (x - x_2)}{(x_0 - x_1)(x_0 - x_2)}$\n",
    "\n",
    "-> siendo k = 1\n",
    "\n",
    "$L_1 (x) = \\frac{(x-x_1) \\cdot (x - x_2)}{(x_0 - x_1)(x_0 - x_2)}$"
   ]
  }
 ],
 "metadata": {
  "language_info": {
   "name": "python"
  }
 },
 "nbformat": 4,
 "nbformat_minor": 5
}
